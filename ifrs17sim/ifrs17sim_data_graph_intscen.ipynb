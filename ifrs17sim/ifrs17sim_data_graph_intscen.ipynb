{
 "cells": [
  {
   "cell_type": "markdown",
   "metadata": {},
   "source": [
    "# IFRS17 シミュレーション 金利予実差\n",
    "\n",
    "\n",
    "* 全てを実行するには、**Cell** メニューから**Run All**を選択します。\n",
    "\n",
    "\n",
    "## このNotebookについて\n",
    "\n",
    "``ifrs17sim`` モデルを作成し、選択した1つの新契約モデルポイントについて、IFRSベースでのプロジェクションを複数年間行い、\n",
    "IFRS17に関する諸数値と次のWaterfallチャートを描写します。\n",
    "\n",
    "- PV Expected Cashflow Rollforward\n",
    "- CSM Amortizatoin\n",
    "- Actual Cashflow RollForwrd\n",
    "- IFRS17 Financial Performance\n",
    "\n",
    "実績のプロジェクション年度毎に、IFRSベースの負債を計算するために、期待将来キャッシュフローが展開されます。実績と期待の計算前提はデフォルトで全て同一の値(1.5%)が設定されています。\n",
    "\n",
    "\n",
    "簡便的なモデルで、特に次の点が大きな簡略化・未対応点です。\n",
    "\n",
    "- キャッシュフローのタイミングは期始か期末です。\n",
    "- 事業費は全て保険キャッシュフローに含めています。\n",
    "- 損失要素はモデル化されておらず、CSMが負を取りえるロジックになっています。\n",
    "- カバー単位は保有保険金額に設定しています。\n",
    "- 新契約費の償却率は契約始に固定しています。\n",
    "- TVOGは無いとしています。\n",
    "- リスク調整は実装されていません。\n"
   ]
  },
  {
   "cell_type": "markdown",
   "metadata": {},
   "source": [
    "## 初期設定、モデルの作成\n",
    "\n",
    "* 参照するモジュールをインポートします。\n",
    "* ``ifrs17sim``モデルを作成し、``model``変数に代入します。次に作成するときは、``load_saved``に``True``を設定することによりモデル作成の時間を短縮できます。"
   ]
  },
  {
   "cell_type": "code",
   "execution_count": null,
   "metadata": {},
   "outputs": [],
   "source": [
    "%matplotlib notebook\n",
    "\n",
    "from draw_charts import (draw_waterfall, \n",
    "                         get_waterfalldata,\n",
    "                         draw_actest_pairs)\n",
    "import ifrs17sim\n",
    "\n",
    "model = ifrs17sim.build(load_saved=False)"
   ]
  },
  {
   "cell_type": "markdown",
   "metadata": {},
   "source": [
    "## モデルポイントの選択\n",
    "\n",
    "* ``policy_id``に選択するモデルポイントのIDを代入します。\n",
    "* Actualのプロジェクションを、``proj``、Estimatedのプロジェクションを``inner``に代入します。\n",
    "* ``inner``は、Actualの時点をインデックスとしてもちます。例えば、``inner[0]``は、t=0時点における期待プロジェクション、``inner[1]``はt=1時点における期待プロジェクション、という具合です。\n",
    "\n",
    "**演習**\n",
    "* ``policy_id``を変更し、商品や契約属性が異なることにより、後のテーブルやグラフが変化することを確かめる。"
   ]
  },
  {
   "cell_type": "code",
   "execution_count": null,
   "metadata": {
    "collapsed": true
   },
   "outputs": [],
   "source": [
    "policy_id = 1\n",
    "proj = model.OuterProj[policy_id]\n",
    "inner = proj.InnerProj"
   ]
  },
  {
   "cell_type": "markdown",
   "metadata": {},
   "source": [
    "## 保険キャッシュフローのグラフ"
   ]
  },
  {
   "cell_type": "code",
   "execution_count": null,
   "metadata": {},
   "outputs": [],
   "source": [
    "import pandas as pd\n",
    "\n",
    "# %% Draw NetCashflows Graph\n",
    "data = {'NetCashflows': [proj.NetInsurCF[t] for t in range(50)]}\n",
    "ax = pd.DataFrame(data).plot.line(marker='o', color='r')\n",
    "\n",
    "vars = ['PremIncome',\n",
    "        'BenefitSurr',\n",
    "        'BenefitDeath',\n",
    "        'ExpsMaint',\n",
    "        'ExpsCommTotal',\n",
    "        'ExpsAcq']\n",
    "\n",
    "df = proj.cells[vars].to_frame(range(15))\n",
    "\n",
    "df[vars[1:]] = df[vars[1:]].mul(-1)   # Change outflows to negatives\n",
    "df.plot(kind='bar', stacked=True, ax=ax, title='Insurance Cashflows')"
   ]
  },
  {
   "cell_type": "markdown",
   "metadata": {},
   "source": [
    "## 金利の変更\n",
    "\n",
    "* Actual(実績)のプロジェクション`proj`の`DiscRateAdj[t]` (t年度末の実績金利)に値を設定すると、`t`年度末以降の実績金利が設定した値分だけシフトします。\n",
    "* それに連動して、t年度末以降の期待キャッシュフローの割引率も、シフト後の金利に変更されます。"
   ]
  },
  {
   "cell_type": "code",
   "execution_count": null,
   "metadata": {},
   "outputs": [],
   "source": [
    "proj.DiscRate.formula"
   ]
  },
  {
   "cell_type": "code",
   "execution_count": null,
   "metadata": {},
   "outputs": [],
   "source": [
    "proj.DiscRate.to_frame((t, 0) for t in range(5))"
   ]
  },
  {
   "cell_type": "code",
   "execution_count": null,
   "metadata": {},
   "outputs": [],
   "source": [
    "proj.DiscRateAdj[2] = 0.01  # 第2年度末以降金利が1%上昇\n",
    "proj.DiscRate.to_frame((t, 0) for t in range(5))"
   ]
  },
  {
   "cell_type": "code",
   "execution_count": null,
   "metadata": {},
   "outputs": [],
   "source": [
    "inner[1].DiscRate.to_frame(0, 1, 2) # 第1年度末の期待キャッシュフローの割引率 "
   ]
  },
  {
   "cell_type": "code",
   "execution_count": null,
   "metadata": {},
   "outputs": [],
   "source": [
    "inner[2].DiscRate.to_frame(0, 1, 2) # 第2年度末の期待キャッシュフローの割引率 "
   ]
  },
  {
   "cell_type": "markdown",
   "metadata": {},
   "source": [
    "## PV Expected Cashflow Rollforward\n",
    "\n",
    "* 一つ目のセルは、各時点の期始の予定の将来キャッシュフロー現価と、現価をその期間でアンワインドした各項目のテーブルデータ(`estcf`)です。\n",
    "* 二番目のセルは、そのテーブルのデータをWaterfallチャートで表示しています。\n",
    "* 予実差がある場合、期末時点の実績保有契約数が、その期始時点で予定していた期末保有数と異なるので、転がし計算の結果と差異が生じます。\n",
    "\n",
    "**演習**\n",
    "* estcf (DataFrameオブジェクト) の各行の合計が、次の行の`PV_FutureCF`と一致するかどうか確かめる。\n",
    "* 解約率乗数を変更して、残高や増減項目がどう変化するか確かめる。"
   ]
  },
  {
   "cell_type": "code",
   "execution_count": null,
   "metadata": {},
   "outputs": [],
   "source": [
    "estcf = get_waterfalldata(\n",
    "            proj,\n",
    "            items=['PV_FutureCF',\n",
    "                   'EstPremIncome',\n",
    "                   'EstIntOnCF',\n",
    "                   'EstAcqCashflow',\n",
    "                   'EstClaim',\n",
    "                   'EstExps'],\n",
    "            length=3,\n",
    "            reverseitems=['EstPremIncome'])\n",
    "estcf"
   ]
  },
  {
   "cell_type": "code",
   "execution_count": null,
   "metadata": {},
   "outputs": [],
   "source": [
    "draw_waterfall(estcf, title='PV Expected Cashflows')"
   ]
  },
  {
   "cell_type": "markdown",
   "metadata": {},
   "source": [
    "## CSM Amortization\n",
    "\n",
    "各時点のCSM残高と、CSMの増減項目からなるWaterfal chart用のデータと、グラフです。\n",
    "\n",
    "**演習**\n",
    "\n",
    "* 解約率乗数を変更して、CSMの増減項目がどう変化するか確かめる。"
   ]
  },
  {
   "cell_type": "code",
   "execution_count": null,
   "metadata": {},
   "outputs": [],
   "source": [
    "csmrf = get_waterfalldata(\n",
    "            proj, \n",
    "            items=['CSM_Unfloored',\n",
    "                   'IntAccrCSM',\n",
    "                   'AdjCSM_FlufCF',\n",
    "                   'TransServices'],\n",
    "            length=5,\n",
    "            reverseitems=['TransServices'])\n",
    "csmrf"
   ]
  },
  {
   "cell_type": "code",
   "execution_count": null,
   "metadata": {
    "scrolled": true
   },
   "outputs": [],
   "source": [
    "draw_waterfall(csmrf, title='CSM Amortization')"
   ]
  },
  {
   "cell_type": "markdown",
   "metadata": {},
   "source": [
    "## Actual Cashflow RollForwrd\n",
    "\n",
    "実績キャッシュフローのWaterfal chartです。累積キャッシュフローは全て現金として保有していると仮定しています。"
   ]
  },
  {
   "cell_type": "code",
   "execution_count": null,
   "metadata": {},
   "outputs": [],
   "source": [
    "actcf = get_waterfalldata(\n",
    "            proj,\n",
    "            items=['PremIncome',\n",
    "                   'IntAccumCF',\n",
    "                   'ExpsAcqTotal',\n",
    "                   'BenefitTotal',\n",
    "                   'ExpsMaintTotal',\n",
    "                   'ActualNetCF'],\n",
    "            length=3,\n",
    "            reverseitems=['ExpsAcqTotal',\n",
    "                          'BenefitTotal',\n",
    "                          'ExpsMaintTotal'])\n",
    "actcf"
   ]
  },
  {
   "cell_type": "code",
   "execution_count": null,
   "metadata": {
    "scrolled": true
   },
   "outputs": [],
   "source": [
    "draw_waterfall(actcf, stocks=[0, 5], title='Actual Cashflows')"
   ]
  },
  {
   "cell_type": "markdown",
   "metadata": {},
   "source": [
    "## IFRS17 Financial Performance\n",
    "\n",
    "IFRSのPL/BSからなるWaterfal chartです。\n",
    "\n",
    "**演習**\n",
    "\n",
    "* 期待キャッシュフロー、CSM、実績キャッシュフローとどのような関係にあるか考察する。\n",
    "* 対象契約や、出力期間を変更して出力する。\n",
    "* 解約率乗数を変更して、CSMの増減項目がどう変化するか確かめる。"
   ]
  },
  {
   "cell_type": "code",
   "execution_count": null,
   "metadata": {},
   "outputs": [],
   "source": [
    "ifrspl = get_waterfalldata(\n",
    "            proj,\n",
    "            items=['InsurRevenue',\n",
    "                   'InsurServiceExps',\n",
    "                   'InsurFinIncomeExps',\n",
    "                   'ProfitBefTax'],\n",
    "            length=5,\n",
    "            reverseitems=['InsurServiceExps'])\n",
    "ifrspl"
   ]
  },
  {
   "cell_type": "code",
   "execution_count": null,
   "metadata": {
    "scrolled": false
   },
   "outputs": [],
   "source": [
    "draw_waterfall(ifrspl, stocks=[0, 3], title='IFRS17 Profit/Loss')"
   ]
  }
 ],
 "metadata": {
  "kernelspec": {
   "display_name": "Python 3",
   "language": "python",
   "name": "python3"
  },
  "language_info": {
   "codemirror_mode": {
    "name": "ipython",
    "version": 3
   },
   "file_extension": ".py",
   "mimetype": "text/x-python",
   "name": "python",
   "nbconvert_exporter": "python",
   "pygments_lexer": "ipython3",
   "version": "3.6.4"
  }
 },
 "nbformat": 4,
 "nbformat_minor": 2
}
