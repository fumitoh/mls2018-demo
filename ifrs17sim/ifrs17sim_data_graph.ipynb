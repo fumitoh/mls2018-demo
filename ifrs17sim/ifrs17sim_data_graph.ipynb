{
 "cells": [
  {
   "cell_type": "markdown",
   "metadata": {},
   "source": [
    "# IFRS17 シミュレーション 解約予実差\n",
    "\n",
    "\n",
    "* 全てを実行するには、**Cell** メニューから**Run All**を選択します。\n",
    "\n",
    "\n",
    "## このNotebookについて\n",
    "\n",
    "``ifrs17sim`` モデルを作成し、選択した1つのモデルポイントについて、IFRSベースでのプロジェクションを行い、\n",
    "IFRS17に関する諸数値と次のWaterfallチャートを描写します。\n",
    "\n",
    "- PV Expected Cashflow Rollforward\n",
    "- CSM Amortizatoin\n",
    "- Actual Cashflow RollForwrd\n",
    "- IFRS17 Financial Performance\n",
    "\n",
    "ベース解約率に対して、乗数をかけて解約率前提を変更することができます。実績と予定に異なる乗数を乗じることにより、解約予実差がある場合のシミュレーションができます。\n",
    "\n",
    "簡便的なモデルで、特に次の点が大きな簡略化・未対応点です。\n",
    "\n",
    "- キャッシュフローのタイミングは期始か期末です。\n",
    "- 事業費は全て保険キャッシュフローに含めています。\n",
    "- 損失要素はモデル化されておらず、CSMが負を取りえるロジックになっています。\n",
    "- カバー単位は保有保険金額に設定しています。\n",
    "- 新契約費の償却率は契約始に固定しています。\n",
    "- TVOGは無いとしています。\n",
    "- リスク調整は実装されていません。\n",
    "\n",
    "\n"
   ]
  },
  {
   "cell_type": "markdown",
   "metadata": {},
   "source": [
    "## 初期設定、モデルの作成\n",
    "\n",
    "* 参照するモジュールをインポートします。\n",
    "* ``ifrs17sim``モデルを作成し、``model``変数に代入します。次に作成するときは、``load_saved``に``True``を設定することによりモデル作成の時間を短縮できます。"
   ]
  },
  {
   "cell_type": "code",
   "execution_count": null,
   "metadata": {},
   "outputs": [],
   "source": [
    "%matplotlib notebook\n",
    "\n",
    "from draw_charts import (draw_waterfall, \n",
    "                         get_waterfalldata,\n",
    "                         draw_actest_pairs)\n",
    "import ifrs17sim\n",
    "\n",
    "model = ifrs17sim.build(load_saved=True)"
   ]
  },
  {
   "cell_type": "markdown",
   "metadata": {},
   "source": [
    "## モデルポイントの選択\n",
    "\n",
    "* ``policy_id``に選択するモデルポイントのIDを代入します。\n",
    "* Actualのプロジェクションを、``proj``、Estimatedのプロジェクションを``inner``に代入します。\n",
    "* ``inner``は、Actualの時点をインデックスとしてもちます。例えば、``inner[0]``は、t=0時点における期待プロジェクション、``inner[1]``はt=1時点における期待プロジェクション、という具合です。\n",
    "\n",
    "**演習**\n",
    "* ``policy_id``を変更し、商品や契約属性が異なることにより、後のテーブルやグラフが変化することを確かめる。"
   ]
  },
  {
   "cell_type": "code",
   "execution_count": null,
   "metadata": {
    "collapsed": true
   },
   "outputs": [],
   "source": [
    "policy_id = 1\n",
    "proj = model.OuterProj[policy_id]\n",
    "inner = proj.InnerProj"
   ]
  },
  {
   "cell_type": "markdown",
   "metadata": {},
   "source": [
    "## 解約率の変更\n",
    "\n",
    "ベース解約率に対して乗じる`SurrRateMult`を、実績予定別、年度別に指定します。`[t, t+1]`間の解約率を指定して、その後の解約率を指定しないと`t+1`以降もその解約率が適用されます。\n",
    "\n",
    "\n",
    "* `proj.SurrRateMult[t]` : `[t, t+1]`間の実績解約率\n",
    "* `inner[t0].SurrRateMult[t1]` : `t0`時点の予定プロジェクションにおける、`[t1, t1+1]`間の予定解約率\n",
    "\n",
    "**演習**\n",
    "\n",
    "* 乗数を変更し、この後のグラフが変化することを確かめる。\n",
    "* 変化した出力結果の妥当性を分析する。\n"
   ]
  },
  {
   "cell_type": "code",
   "execution_count": null,
   "metadata": {
    "collapsed": true
   },
   "outputs": [],
   "source": [
    "proj.SurrRateMult[1] = 1\n",
    "proj.SurrRateMult[2] = 1\n",
    "proj.SurrRateMult[3] = 1    # t=4以降もこの乗数が適用される\n",
    "\n",
    "inner[1].SurrRateMult[1] = 1\n",
    "inner[2].SurrRateMult[2] = 1\n",
    "inner[3].SurrRateMult[3] = 1    # t=4以降もこの乗数が適用される"
   ]
  },
  {
   "cell_type": "markdown",
   "metadata": {},
   "source": [
    "## 契約件数、解約率乗数、解約件数のグラフ\n",
    "\n",
    "各時点において、実績解約率と予定解約率と、契約数ががどう推移するかを描写するグラフです。\n",
    "* 最上段のグラフが`t=0`、その一段下のグラフが`t=1`というように、時間の推移に対応します。\n",
    "* 線グラフは、各時点における、契約件数(`PolsIF_End`)、解約率乗数(`SurrRateMult`)、解約件数(`PolsSurr`)で、実線が実績、点線が予定です。\n",
    "* 引数を変えることにより、出力する変数や期間を変更することも可能です。\n",
    "\n",
    "**演習**\n",
    "\n",
    "* グラフで表示する期間(実績、予定)を変えてみる。\n",
    "* 他の変数のグラフを表示する。"
   ]
  },
  {
   "cell_type": "code",
   "execution_count": null,
   "metadata": {},
   "outputs": [],
   "source": [
    "draw_actest_pairs(proj, inner, ['PolsIF_End', 'SurrRateMult', 'PolsSurr'], 5, 5)"
   ]
  },
  {
   "cell_type": "markdown",
   "metadata": {},
   "source": [
    "## PV Expected Cashflow Rollforward\n",
    "\n",
    "* 一つ目のセルは、各時点の期始の予定の将来キャッシュフロー現価と、現価をその期間でアンワインドした各項目のテーブルデータ(`estcf`)です。\n",
    "* 二番目のセルは、そのテーブルのデータをWaterfallチャートで表示しています。\n",
    "* 予実差がある場合、期末時点の実績保有契約数が、その期始時点で予定していた期末保有数と異なるので、転がし計算の結果と差異が生じます。\n",
    "\n",
    "**演習**\n",
    "* estcf (DataFrameオブジェクト) の各行の合計が、次の行の`PV_FutureCF`と一致するかどうか確かめる。\n",
    "* 解約率乗数を変更して、残高や増減項目がどう変化するか確かめる。"
   ]
  },
  {
   "cell_type": "code",
   "execution_count": null,
   "metadata": {},
   "outputs": [],
   "source": [
    "estcf = get_waterfalldata(\n",
    "            proj,\n",
    "            items=['PV_FutureCF',\n",
    "                   'EstPremIncome',\n",
    "                   'EstIntOnCF',\n",
    "                   'EstAcqCashflow',\n",
    "                   'EstClaim',\n",
    "                   'EstExps'],\n",
    "            length=3,\n",
    "            reverseitems=['EstPremIncome'])\n",
    "estcf"
   ]
  },
  {
   "cell_type": "code",
   "execution_count": null,
   "metadata": {},
   "outputs": [],
   "source": [
    "draw_waterfall(estcf, title='PV Expected Cashflows')"
   ]
  },
  {
   "cell_type": "markdown",
   "metadata": {},
   "source": [
    "## CSM Amortization\n",
    "\n",
    "各時点のCSM残高と、CSMの増減項目からなるWaterfal chart用のデータと、グラフです。\n",
    "\n",
    "**演習**\n",
    "\n",
    "* 解約率乗数を変更して、CSMの増減項目がどう変化するか確かめる。"
   ]
  },
  {
   "cell_type": "code",
   "execution_count": null,
   "metadata": {},
   "outputs": [],
   "source": [
    "csmrf = get_waterfalldata(\n",
    "            proj, \n",
    "            items=['CSM_Unfloored',\n",
    "                   'IntAccrCSM',\n",
    "                   'AdjCSM_FlufCF',\n",
    "                   'TransServices'],\n",
    "            length=5,\n",
    "            reverseitems=['TransServices'])\n",
    "csmrf"
   ]
  },
  {
   "cell_type": "code",
   "execution_count": null,
   "metadata": {},
   "outputs": [],
   "source": [
    "draw_waterfall(csmrf, title='CSM Amortization')"
   ]
  },
  {
   "cell_type": "markdown",
   "metadata": {},
   "source": [
    "## Actual Cashflow RollForwrd\n",
    "\n",
    "実績キャッシュフローのWaterfal chartです。累積キャッシュフローは全て現金として保有していると仮定しています。"
   ]
  },
  {
   "cell_type": "code",
   "execution_count": null,
   "metadata": {},
   "outputs": [],
   "source": [
    "actcf = get_waterfalldata(\n",
    "            proj,\n",
    "            items=['PremIncome',\n",
    "                   'IntAccumCF',\n",
    "                   'ExpsAcqTotal',\n",
    "                   'BenefitTotal',\n",
    "                   'ExpsMaintTotal',\n",
    "                   'ActualNetCF'],\n",
    "            length=3,\n",
    "            reverseitems=['ExpsAcqTotal',\n",
    "                          'BenefitTotal',\n",
    "                          'ExpsMaintTotal'])\n",
    "actcf"
   ]
  },
  {
   "cell_type": "code",
   "execution_count": null,
   "metadata": {},
   "outputs": [],
   "source": [
    "draw_waterfall(actcf, stocks=[0, 5], title='Actual Cashflows')"
   ]
  },
  {
   "cell_type": "markdown",
   "metadata": {},
   "source": [
    "## IFRS17 Financial Performance\n",
    "\n",
    "IFRSのPL/BSからなるWaterfal chartです。\n",
    "\n",
    "**演習**\n",
    "\n",
    "* 期待キャッシュフロー、CSM、実績キャッシュフローとどのような関係にあるか考察する。\n",
    "* 対象契約や、出力期間を変更して出力する。\n",
    "* 解約率乗数を変更して、CSMの増減項目がどう変化するか確かめる。"
   ]
  },
  {
   "cell_type": "code",
   "execution_count": null,
   "metadata": {},
   "outputs": [],
   "source": [
    "ifrspl = get_waterfalldata(\n",
    "            proj,\n",
    "            items=['InsurRevenue',\n",
    "                   'InsurServiceExps',\n",
    "                   'InsurFinIncomeExps',\n",
    "                   'ProfitBefTax'],\n",
    "            length=5,\n",
    "            reverseitems=['InsurServiceExps'])\n",
    "ifrspl"
   ]
  },
  {
   "cell_type": "code",
   "execution_count": null,
   "metadata": {
    "scrolled": false
   },
   "outputs": [],
   "source": [
    "draw_waterfall(ifrspl, stocks=[0, 3], title='IFRS17 Profit/Loss')"
   ]
  }
 ],
 "metadata": {
  "kernelspec": {
   "display_name": "Python 3",
   "language": "python",
   "name": "python3"
  },
  "language_info": {
   "codemirror_mode": {
    "name": "ipython",
    "version": 3
   },
   "file_extension": ".py",
   "mimetype": "text/x-python",
   "name": "python",
   "nbconvert_exporter": "python",
   "pygments_lexer": "ipython3",
   "version": "3.6.4"
  }
 },
 "nbformat": 4,
 "nbformat_minor": 2
}
