{
 "cells": [
  {
   "cell_type": "markdown",
   "metadata": {},
   "source": [
    "# IFRS17 シミュレーション モデル説明\n",
    "\n",
    "## このNotebookについて\n",
    "\n",
    "`ifrs17sim`モデルの説明のためのNotebookです。https://lifelib.io のプロジェクトを、ムーンライトセミナー用に作成したものです。\n",
    "\n",
    "\n",
    "## モデルの概要\n",
    "\n",
    "* `ifrs17sim`モデルは、IFRS17ベースのプロジェクションを、単一のモデルポイント上でシミュレーションするモデルです。\n",
    "* リスク調整やTVOGはモデル化できていません。\n",
    "* 個人の解釈で作成していますので、不正確な部分もあると思います。\n",
    "\n",
    "## Spyder modelx プラグインの利用\n",
    "\n",
    "* Spyder modelxプラグインを利用すると、モデルの階層構造を表示するウィジットが追加されます。\n",
    "* Spyder modelxプラグインをインストールするには、Anaconda Promptを起動し、次のコマンドを入力します。\n",
    "\n",
    "```\n",
    "> pip install spyder_modelx\n",
    "```\n",
    "* View->Pane->Mx explorerを選択\n",
    "\n",
    "![MxMenu](http://docs.modelx.io/en/latest/_images/SpyderMainMenuForModelx.png)\n",
    "\n",
    "* Consoleのタブを右クリックし、\"Open a modelx console\"を選択\n",
    "\n",
    "![MxConsole](http://docs.modelx.io/en/latest/_images/IPythonConsoleMenu.png)\n",
    "\n",
    "* Mx ConsoleでのモデルがMx explorerウィジットに表示されます。"
   ]
  },
  {
   "cell_type": "markdown",
   "metadata": {},
   "source": [
    "## モデルの作\n",
    "\n",
    "\n",
    "* `ifrs17sim.py`モジュールの`build`関数で作成し、変数`model`に作成したモデルを代入します。変数名は任意です。\n",
    "* ソースファイルから、数式をインポートし、インプットデータをエクセルファイル`input.xlsm`から読み込みます。\n",
    "* ビルドすると、その状態がファイル`ifrs17sim.mx`というファイルに保存ます。次回から、`load_saved=True`と指定すれば、保存モデルを読み込むので時間が短縮できます。\n",
    "* 複数回モデルを作成すると、以前のモデルは`ifrs17sim_BAKN`(Nは数字)という名前に変更されます。\n"
   ]
  },
  {
   "cell_type": "code",
   "execution_count": null,
   "metadata": {
    "collapsed": true
   },
   "outputs": [],
   "source": [
    "import ifrs17sim\n",
    "\n",
    "model = ifrs17sim.build(load_saved=True)"
   ]
  },
  {
   "cell_type": "markdown",
   "metadata": {},
   "source": [
    "## モデルの操作"
   ]
  },
  {
   "cell_type": "markdown",
   "metadata": {},
   "source": [
    "変数名`model`に作成したモデル`ifrs17sim`が代入されています。"
   ]
  },
  {
   "cell_type": "code",
   "execution_count": null,
   "metadata": {},
   "outputs": [],
   "source": [
    "model"
   ]
  },
  {
   "cell_type": "markdown",
   "metadata": {},
   "source": [
    "全てのモデルの、名前とオブジェクトの対応を、`dict`で取得します。"
   ]
  },
  {
   "cell_type": "code",
   "execution_count": null,
   "metadata": {},
   "outputs": [],
   "source": [
    "import modelx as mx\n",
    "\n",
    "mx.get_models()"
   ]
  },
  {
   "cell_type": "code",
   "execution_count": null,
   "metadata": {},
   "outputs": [],
   "source": [
    "mx.get_models()['ifrs17sim'] is model"
   ]
  },
  {
   "cell_type": "markdown",
   "metadata": {},
   "source": [
    "## スペースの操作\n",
    "\n",
    "モデルは複数のSpaceから構成されています。次の文は、`model`直下のスペースの名前とオブジェクトの対応を、`dict`で取得します。"
   ]
  },
  {
   "cell_type": "code",
   "execution_count": null,
   "metadata": {},
   "outputs": [],
   "source": [
    "model.spaces"
   ]
  },
  {
   "cell_type": "markdown",
   "metadata": {},
   "source": [
    "Spaceオブジェクトを取得します。"
   ]
  },
  {
   "cell_type": "code",
   "execution_count": null,
   "metadata": {},
   "outputs": [],
   "source": [
    "model.OuterProj"
   ]
  },
  {
   "cell_type": "markdown",
   "metadata": {},
   "source": [
    "Spaceの取得方法は、2通りあります。"
   ]
  },
  {
   "cell_type": "code",
   "execution_count": null,
   "metadata": {},
   "outputs": [],
   "source": [
    "model.OuterProj is model.spaces['OuterProj']"
   ]
  },
  {
   "cell_type": "markdown",
   "metadata": {},
   "source": [
    "スペースはさらにスペースを持つことができます。"
   ]
  },
  {
   "cell_type": "code",
   "execution_count": null,
   "metadata": {},
   "outputs": [],
   "source": [
    "outer = model.OuterProj\n",
    "outer.spaces"
   ]
  },
  {
   "cell_type": "code",
   "execution_count": null,
   "metadata": {},
   "outputs": [],
   "source": [
    "outer.InnerProj.spaces"
   ]
  },
  {
   "cell_type": "code",
   "execution_count": null,
   "metadata": {},
   "outputs": [],
   "source": [
    "outer.InnerProj.PresentValue"
   ]
  },
  {
   "cell_type": "markdown",
   "metadata": {},
   "source": [
    "## ifrs17simモデルのスペースの内容\n",
    "\n",
    "| Space      | 内容                                              | パラメータ |\n",
    "|------------|---------------------------------------------------|-----------|\n",
    "| Input      | input.xlsmから読み込まれた入力データ                |           |\n",
    "| LifeTable  | 基数や脱退残存表。保険料率や解約返戻金率の計算に使用   |          |\n",
    "| OuterProj  | 実績のプロジェクション                              |Poicy ID |\n",
    "| Policy     | 契約属性                                           |Poicy ID |\n",
    "| Assumption | 計算前提                                           |Poicy ID |\n",
    "| Economic   | 金利シナリオ                                       |          |\n",
    "| BaseProj   | プロジェクションのベーススペース                     |          |\n",
    "| IFRS       | IFRS関連のベーススペース                            |          |\n",
    "| OuterProj  | 実績プロジェクション                                |Poicy ID, Scen ID=1 |\n",
    "\n"
   ]
  },
  {
   "cell_type": "markdown",
   "metadata": {},
   "source": [
    "## ベーススペース\n",
    "\n",
    "他のスペースを**継承**することで、そのスペースのセルや子スペースを自分の中にコピーします。コピー元のスペースを、コピー先のスペースのベース(基底)スペースといいます。\n",
    "例えば、`OuterProj`は、`BaseProj`と、`IFRS`を継承しています。ベーススペースは、`bases`属性で知ることができます。"
   ]
  },
  {
   "cell_type": "code",
   "execution_count": null,
   "metadata": {},
   "outputs": [],
   "source": [
    "outer.bases"
   ]
  },
  {
   "cell_type": "markdown",
   "metadata": {},
   "source": [
    "## パラメータ化されたスペースとダイナミックスペース\n",
    "\n",
    "パラメータ化されたスペースは、鍵括弧で引数を指定すると、その引数に対応する子スペースが作成されます。"
   ]
  },
  {
   "cell_type": "code",
   "execution_count": null,
   "metadata": {},
   "outputs": [],
   "source": [
    "outer.parameters"
   ]
  },
  {
   "cell_type": "code",
   "execution_count": null,
   "metadata": {},
   "outputs": [],
   "source": [
    "outer[1]"
   ]
  },
  {
   "cell_type": "markdown",
   "metadata": {},
   "source": [
    "## セルズの操作\n",
    "\n",
    "`Cells`オブジェクトはSpaceオブジェクトに含まれています。"
   ]
  },
  {
   "cell_type": "code",
   "execution_count": null,
   "metadata": {},
   "outputs": [],
   "source": [
    "outer.cells"
   ]
  },
  {
   "cell_type": "code",
   "execution_count": null,
   "metadata": {},
   "outputs": [],
   "source": [
    "outer.ProfitBefTax"
   ]
  },
  {
   "cell_type": "markdown",
   "metadata": {},
   "source": [
    "Space同様、Cellsオブジェクトには2通りの取得方法があります。"
   ]
  },
  {
   "cell_type": "code",
   "execution_count": null,
   "metadata": {},
   "outputs": [],
   "source": [
    "outer.cells['ProfitBefTax'] is outer.ProfitBefTax"
   ]
  },
  {
   "cell_type": "code",
   "execution_count": null,
   "metadata": {},
   "outputs": [],
   "source": [
    "model.Policy[171].AnnPremRate()"
   ]
  },
  {
   "cell_type": "markdown",
   "metadata": {},
   "source": [
    "## レファレンス\n",
    "\n",
    "スペース内のセルから別のスペースを参照するために、そのスペースから参照される他のスペースはrefで取得できます。"
   ]
  },
  {
   "cell_type": "code",
   "execution_count": null,
   "metadata": {},
   "outputs": [],
   "source": [
    "outer[1].refs"
   ]
  }
 ],
 "metadata": {
  "kernelspec": {
   "display_name": "Python 3",
   "language": "python",
   "name": "python3"
  },
  "language_info": {
   "codemirror_mode": {
    "name": "ipython",
    "version": 3
   },
   "file_extension": ".py",
   "mimetype": "text/x-python",
   "name": "python",
   "nbconvert_exporter": "python",
   "pygments_lexer": "ipython3",
   "version": "3.6.4"
  }
 },
 "nbformat": 4,
 "nbformat_minor": 2
}
