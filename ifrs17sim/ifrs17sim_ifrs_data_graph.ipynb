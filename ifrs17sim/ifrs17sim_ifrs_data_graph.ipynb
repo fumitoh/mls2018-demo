{
 "cells": [
  {
   "cell_type": "code",
   "execution_count": null,
   "metadata": {},
   "outputs": [],
   "source": [
    "\"\"\"\n",
    ":mod:`ifrs17sim` IFRS waterfall chart\n",
    "=====================================\n",
    "\n",
    "The script draws multiple waterfall charts,\n",
    "each of which depict sources of changes in balances related to IFRS17.\n",
    "The script is broken down into pieces of code, and explained in a Jupyter notebook,\n",
    ":doc:`/projects/ifrs17sim_ifrs_waterfall`.\n",
    "\n",
    "The live version of the notebook is available online.\n",
    "\n",
    "*Launch this notebook online!* |binder ifrs17sim_ifrs_waterfall|\n",
    "\n",
    ".. include:: /binderlinks.rst\n",
    "   :start-after: Begin binder ifrs17sim_ifrs_waterfall\n",
    "   :end-before: End binder ifrs17sim_ifrs_waterfall\n",
    "\n",
    "\"\"\"\n",
    "%matplotlib notebook\n",
    "import matplotlib.pyplot as plt\n",
    "from draw_charts import draw_waterfall, get_waterfalldata\n",
    "\n",
    "import ifrs17sim\n",
    "\n",
    "model = ifrs17sim.build(True)\n",
    "proj = model.OuterProj[1]"
   ]
  },
  {
   "cell_type": "markdown",
   "metadata": {},
   "source": [
    "## CSM Amortization"
   ]
  },
  {
   "cell_type": "code",
   "execution_count": null,
   "metadata": {},
   "outputs": [],
   "source": [
    "# %% CSM Amortization\n",
    "\n",
    "csmrf = get_waterfalldata(\n",
    "            proj, \n",
    "            items=['CSM_Unfloored',\n",
    "                   'IntAccrCSM',\n",
    "                   'AdjCSM_FlufCF',\n",
    "                   'TransServices'],\n",
    "            length=3,\n",
    "            reverseitems=['TransServices'])\n",
    "csmrf"
   ]
  },
  {
   "cell_type": "code",
   "execution_count": null,
   "metadata": {},
   "outputs": [],
   "source": [
    "draw_waterfall(csmrf, title='CSM Amortization')"
   ]
  },
  {
   "cell_type": "markdown",
   "metadata": {},
   "source": [
    "## Expected Cashflow Rollforward"
   ]
  },
  {
   "cell_type": "code",
   "execution_count": null,
   "metadata": {},
   "outputs": [],
   "source": [
    "# %% Expected Cashflow Rollforwad\n",
    "\n",
    "estcf = get_waterfalldata(\n",
    "            proj,\n",
    "            items=['PV_FutureCF',\n",
    "                   'EstPremIncome',\n",
    "                   'EstIntOnCF',\n",
    "                   'EstAcqCashflow',\n",
    "                   'EstClaim',\n",
    "                   'EstExps'],\n",
    "            length=3,\n",
    "            reverseitems=['EstPremIncome'])\n",
    "estcf"
   ]
  },
  {
   "cell_type": "code",
   "execution_count": null,
   "metadata": {},
   "outputs": [],
   "source": [
    "draw_waterfall(estcf, title='Expected Cashflows')"
   ]
  },
  {
   "cell_type": "markdown",
   "metadata": {},
   "source": [
    "## Actual Cashflow RollForwrd"
   ]
  },
  {
   "cell_type": "code",
   "execution_count": null,
   "metadata": {},
   "outputs": [],
   "source": [
    "# %% Actual Cashflow Rollforward\n",
    "\n",
    "actcf = get_waterfalldata(\n",
    "            proj,\n",
    "            items=['AccumCF',\n",
    "                   'PremIncome',\n",
    "                   'IntAccumCF',\n",
    "                   'ExpsAcqTotal',\n",
    "                   'BenefitTotal',\n",
    "                   'ExpsMaintTotal'],\n",
    "            length=3,\n",
    "            reverseitems=['ExpsAcqTotal',\n",
    "                       'BenefitTotal',\n",
    "                       'ExpsMaintTotal'])\n",
    "actcf"
   ]
  },
  {
   "cell_type": "code",
   "execution_count": null,
   "metadata": {},
   "outputs": [],
   "source": [
    "draw_waterfall(actcf, title='Actual Cashflows')"
   ]
  },
  {
   "cell_type": "code",
   "execution_count": null,
   "metadata": {},
   "outputs": [],
   "source": [
    "# %% IFRS17 Financial Performance\n",
    "\n",
    "ifrspl = get_waterfalldata(\n",
    "            proj,\n",
    "            items=['NetBalance',\n",
    "                   'InsurRevenue',\n",
    "                   'InsurServiceExps',\n",
    "                   'InsurFinIncomeExps'],\n",
    "            length=5,\n",
    "            reverseitems=['InsurServiceExps'])\n",
    "ifrspl"
   ]
  },
  {
   "cell_type": "code",
   "execution_count": null,
   "metadata": {
    "scrolled": false
   },
   "outputs": [],
   "source": [
    "draw_waterfall(ifrspl, title='IFRS17 Profit/Loss')"
   ]
  },
  {
   "cell_type": "code",
   "execution_count": null,
   "metadata": {
    "collapsed": true
   },
   "outputs": [],
   "source": []
  }
 ],
 "metadata": {
  "kernelspec": {
   "display_name": "Python 3",
   "language": "python",
   "name": "python3"
  },
  "language_info": {
   "codemirror_mode": {
    "name": "ipython",
    "version": 3
   },
   "file_extension": ".py",
   "mimetype": "text/x-python",
   "name": "python",
   "nbconvert_exporter": "python",
   "pygments_lexer": "ipython3",
   "version": "3.6.4"
  }
 },
 "nbformat": 4,
 "nbformat_minor": 2
}
